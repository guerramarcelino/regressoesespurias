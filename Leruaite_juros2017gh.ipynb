{
 "cells": [
  {
   "cell_type": "code",
   "execution_count": 2,
   "metadata": {
    "collapsed": true
   },
   "outputs": [],
   "source": [
    "import plotly \n",
    "plotly.tools.set_credentials_file(username='', api_key='') # utilize seu username e api_key "
   ]
  },
  {
   "cell_type": "code",
   "execution_count": null,
   "metadata": {
    "collapsed": true
   },
   "outputs": [],
   "source": [
    "import plotly.plotly as py\n",
    "import plotly.graph_objs as go\n",
    "\n",
    "month = [\"Jan. 2015\", \"Fev. 2015\", \"Março 2015\", \"Abril 2015\", \"Maio 2015\", \"Junho 2015\", \"Julho 2015\", \"Agosto 2015\", \"Set. 2015\", \"Out. 2015\", \"Nov. 2015\", \"Dez. 2015\", \"Jan. 2016\", \"Fev. 2016\", \"Março 2016\", \"Abril 2016\", \"Maio 2016\", \"Junho 2016\", \"Julho 2016\", \"Agosto 2016\", \"Set. 2016\", \"Out. 2016\", \"Nov. 2016\"]\n",
    "IPCA = [7.14, 7.7, 8.13, 8.17, 8.47, 8.89, 9.56, 9.53, 9.49, 9.93, 10.48, 10.67, 10.71, 10.36, 9.39, 9.28, 9.32, 8.84, 8.74, 8.97, 8.48, 7.87, 6.99]\n",
    "SELIC = [12.25, 12.25, 12.25, 13.25, 13.25, 13.75, 13.75, 14.25, 14.25, 14.25, 14.25, 14.25, 14.25, 14.25, 14.25, 14.25, 14.25, 14.25, 14.25, 14.25, 14.25, 14.0, 13.75]\n",
    "JR = [4.77, 4.22, 3.81, 4.7, 4.41, 4.46, 3.82, 4.31, 4.35, 3.93, 3.41, 3.23, 3.2, 3.52, 4.44, 4.55, 4.51, 4.97, 5.07, 4.85, 5.32, 5.68, 6.32]\n",
    "\n",
    "\n",
    "trace0 = go.Scatter(\n",
    "    x = month,\n",
    "    y = IPCA,\n",
    "    name = 'IPCA',\n",
    "    line = dict(\n",
    "        color = ('rgb(205, 12, 24)'),\n",
    "        width = 4)\n",
    ")\n",
    "trace1 = go.Scatter(\n",
    "    x = month,\n",
    "    y = SELIC,\n",
    "    name = 'SELIC',\n",
    "    line = dict(\n",
    "        color = ('rgb(22, 96, 167)'),\n",
    "        width = 4,)\n",
    ")\n",
    "trace2 = go.Scatter(\n",
    "    x = month,\n",
    "    y = JR,\n",
    "    name = 'Juros Reais',\n",
    "    line = dict(\n",
    "        color = ('rgb(106, 90, 205)'),\n",
    "        width = 4,\n",
    "        dash = 'dash') \n",
    ")\n",
    "\n",
    "data = [trace1, trace0, trace2]\n",
    "\n",
    "layout = dict(title = 'IPCA x SELIC x Juros Reais')\n",
    "\n",
    "fig = dict(data=data, layout=layout)\n",
    "py.plot(fig, filename='g1isadora')"
   ]
  },
  {
   "cell_type": "code",
   "execution_count": null,
   "metadata": {
    "collapsed": true
   },
   "outputs": [],
   "source": [
    "import plotly.plotly as py\n",
    "import plotly.graph_objs as go\n",
    "\n",
    "trace1 = go.Scatter(\n",
    "    x=[\"2015-T1\", \"2015-T2\", \"2015-T3\", \"2015-T4\", \"2016-T1\", \"2016-T2\", \"2016-T3\"],\n",
    "    y=[-1.78, -2.96, -4.53, -5.76, -5.43, -3.58, -2.87],\n",
    "    name = 'Var. PIB trim.', \n",
    "    connectgaps=True, line=dict(color = ('rgb(205, 12, 24)'), width = 4))\n",
    "\n",
    "data = [trace1]\n",
    "layout = dict(title = 'Variação Trimestral do PIB - 2015 e 2016')\n",
    "fig = dict(data=data)\n",
    "py.plot(fig, filename='g2isadora')"
   ]
  }
 ],
 "metadata": {
  "anaconda-cloud": {},
  "kernelspec": {
   "display_name": "Python [conda root]",
   "language": "python",
   "name": "conda-root-py"
  },
  "language_info": {
   "codemirror_mode": {
    "name": "ipython",
    "version": 3
   },
   "file_extension": ".py",
   "mimetype": "text/x-python",
   "name": "python",
   "nbconvert_exporter": "python",
   "pygments_lexer": "ipython3",
   "version": "3.5.2"
  }
 },
 "nbformat": 4,
 "nbformat_minor": 1
}
