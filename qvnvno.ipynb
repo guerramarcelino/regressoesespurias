{
 "cells": [
  {
   "cell_type": "code",
   "execution_count": 1,
   "metadata": {
    "collapsed": false
   },
   "outputs": [],
   "source": [
    "import plotly \n",
    "plotly.tools.set_credentials_file(username=' ', api_key=' ')" #Coloque seu username e seu api_key do Plotly
   ]
  },
  {
   "cell_type": "code",
   "execution_count": 2,
   "metadata": {
    "collapsed": false
   },
   "outputs": [],
   "source": [
    "import pandas\n",
    "df = pandas.read_excel(open('qvnvn.xlsx','rb'), sheetname=0)"
   ]
  },
  {
   "cell_type": "code",
   "execution_count": 3,
   "metadata": {
    "collapsed": false
   },
   "outputs": [
    {
     "data": {
      "text/html": [
       "<div>\n",
       "<table border=\"1\" class=\"dataframe\">\n",
       "  <thead>\n",
       "    <tr style=\"text-align: right;\">\n",
       "      <th></th>\n",
       "      <th>Município</th>\n",
       "      <th>Votos_LL</th>\n",
       "      <th>Votos_ELM</th>\n",
       "      <th>Votos_CW</th>\n",
       "      <th>Votos_SABINO</th>\n",
       "      <th>ELM_REG</th>\n",
       "      <th>SABINO_REG</th>\n",
       "    </tr>\n",
       "  </thead>\n",
       "  <tbody>\n",
       "    <tr>\n",
       "      <th>0</th>\n",
       "      <td>ABAIARA</td>\n",
       "      <td>24</td>\n",
       "      <td>3</td>\n",
       "      <td>92</td>\n",
       "      <td>80</td>\n",
       "      <td>38.4674</td>\n",
       "      <td>99.9206</td>\n",
       "    </tr>\n",
       "    <tr>\n",
       "      <th>1</th>\n",
       "      <td>ACARAPE</td>\n",
       "      <td>73</td>\n",
       "      <td>8</td>\n",
       "      <td>191</td>\n",
       "      <td>267</td>\n",
       "      <td>52.9028</td>\n",
       "      <td>156.9248</td>\n",
       "    </tr>\n",
       "    <tr>\n",
       "      <th>2</th>\n",
       "      <td>ACARAÚ</td>\n",
       "      <td>112</td>\n",
       "      <td>20</td>\n",
       "      <td>182</td>\n",
       "      <td>111</td>\n",
       "      <td>64.3922</td>\n",
       "      <td>151.7426</td>\n",
       "    </tr>\n",
       "    <tr>\n",
       "      <th>3</th>\n",
       "      <td>ACOPIARA</td>\n",
       "      <td>202</td>\n",
       "      <td>12</td>\n",
       "      <td>176</td>\n",
       "      <td>178</td>\n",
       "      <td>90.9062</td>\n",
       "      <td>148.2878</td>\n",
       "    </tr>\n",
       "    <tr>\n",
       "      <th>4</th>\n",
       "      <td>AIUABA</td>\n",
       "      <td>7</td>\n",
       "      <td>0</td>\n",
       "      <td>103</td>\n",
       "      <td>60</td>\n",
       "      <td>33.4592</td>\n",
       "      <td>106.2544</td>\n",
       "    </tr>\n",
       "  </tbody>\n",
       "</table>\n",
       "</div>"
      ],
      "text/plain": [
       "  Município  Votos_LL  Votos_ELM  Votos_CW  Votos_SABINO  ELM_REG  SABINO_REG\n",
       "0   ABAIARA        24          3        92            80  38.4674     99.9206\n",
       "1   ACARAPE        73          8       191           267  52.9028    156.9248\n",
       "2    ACARAÚ       112         20       182           111  64.3922    151.7426\n",
       "3  ACOPIARA       202         12       176           178  90.9062    148.2878\n",
       "4    AIUABA         7          0       103            60  33.4592    106.2544"
      ]
     },
     "execution_count": 3,
     "metadata": {},
     "output_type": "execute_result"
    }
   ],
   "source": [
    "df.head()"
   ]
  },
  {
   "cell_type": "code",
   "execution_count": 5,
   "metadata": {
    "collapsed": false
   },
   "outputs": [
    {
     "data": {
      "text/html": [
       "<iframe id=\"igraph\" scrolling=\"no\" style=\"border:none;\" seamless=\"seamless\" src=\"https://plot.ly/~marcelinobguerra/40.embed\" height=\"525px\" width=\"100%\"></iframe>"
      ],
      "text/plain": [
       "<plotly.tools.PlotlyDisplay object>"
      ]
     },
     "execution_count": 5,
     "metadata": {},
     "output_type": "execute_result"
    }
   ],
   "source": [
    "import plotly.plotly as py\n",
    "import plotly.graph_objs as go\n",
    "LL = df['Votos_LL']\n",
    "ELM = df['Votos_ELM']\n",
    "ELM_REG=df['ELM_REG']\n",
    "Cidade=df['Município']\n",
    "trace1 = go.Scatter(\n",
    "     x = LL,\n",
    "    y = ELM,\n",
    "    text = Cidade,\n",
    "    mode = 'markers',\n",
    "    marker = dict(\n",
    "        size = 16,\n",
    "        color = 'rgba(152, 0, 0, .8)',\n",
    "        line = dict(\n",
    "            width = 2,\n",
    "            color = '#444444'\n",
    "        )\n",
    "    )\n",
    "\n",
    ")\n",
    "\n",
    "\n",
    "data = [trace1]\n",
    "layout = go.Layout(\n",
    "    {\"title\": \"Luizianne Lins e Elmano - Eleições 2014\"},\n",
    "    \n",
    "    xaxis=dict({\"title\": \"Votação Luizianne, Deputada Federal\"},\n",
    "        type='log',\n",
    "        autorange=True\n",
    "    ),\n",
    "    yaxis=dict({\"title\": \"Votação Elmano, Deputado Estadual\"},\n",
    "        type='log',\n",
    "        autorange=True\n",
    "    )\n",
    ")\n",
    "fig = go.Figure(data=data, layout=layout)\n",
    "py.iplot(fig, filename='qvnvno1')"
   ]
  },
  {
   "cell_type": "code",
   "execution_count": 6,
   "metadata": {
    "collapsed": false
   },
   "outputs": [
    {
     "data": {
      "text/html": [
       "<iframe id=\"igraph\" scrolling=\"no\" style=\"border:none;\" seamless=\"seamless\" src=\"https://plot.ly/~marcelinobguerra/42.embed\" height=\"525px\" width=\"100%\"></iframe>"
      ],
      "text/plain": [
       "<plotly.tools.PlotlyDisplay object>"
      ]
     },
     "execution_count": 6,
     "metadata": {},
     "output_type": "execute_result"
    }
   ],
   "source": [
    "import plotly.plotly as py\n",
    "import plotly.graph_objs as go\n",
    "CW = df['Votos_CW']\n",
    "SABINO = df['Votos_SABINO']\n",
    "Cidade=df['Município']\n",
    "trace1 = go.Scatter(\n",
    "     x = CW,\n",
    "    y = SABINO,\n",
    "    text = Cidade,\n",
    "    mode = 'markers',\n",
    "    marker = dict(\n",
    "        size = 16,\n",
    "            line = dict(\n",
    "            width = 2,\n",
    "            color = '#444444'\n",
    "        )\n",
    "    )\n",
    "\n",
    ")\n",
    "\n",
    "\n",
    "data = [trace1]\n",
    "layout = go.Layout(\n",
    "    {\"title\": \"Capitão Wagner e Cabo Sabino - Eleições 2014\"},\n",
    "    \n",
    "    xaxis=dict({\"title\": \"Votação Capitão Wagner, Deputado Estadual\"},\n",
    "        type='log',\n",
    "        autorange=True\n",
    "    ),\n",
    "    yaxis=dict({\"title\": \"Votação Cabo Sabino, Deputado Federal\"},\n",
    "        type='log',\n",
    "        autorange=True\n",
    "    )\n",
    ")\n",
    "fig = go.Figure(data=data, layout=layout)\n",
    "py.iplot(fig, filename='qvnvno2')"
   ]
  }
 ],
 "metadata": {
  "anaconda-cloud": {},
  "kernelspec": {
   "display_name": "Python [conda root]",
   "language": "python",
   "name": "conda-root-py"
  },
  "language_info": {
   "codemirror_mode": {
    "name": "ipython",
    "version": 3
   },
   "file_extension": ".py",
   "mimetype": "text/x-python",
   "name": "python",
   "nbconvert_exporter": "python",
   "pygments_lexer": "ipython3",
   "version": "3.5.2"
  }
 },
 "nbformat": 4,
 "nbformat_minor": 1
}
